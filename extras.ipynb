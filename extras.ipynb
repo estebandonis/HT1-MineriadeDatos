{
 "cells": [
  {
   "cell_type": "code",
   "execution_count": null,
   "metadata": {},
   "outputs": [],
   "source": [
    "import pandas as pd\n",
    "import numpy as np\n",
    "\n",
    "movies_df = pd.read_csv('movies.csv')\n",
    "movies_df.head()\n"
   ]
  },
  {
   "cell_type": "code",
   "execution_count": null,
   "metadata": {},
   "outputs": [],
   "source": [
    "# Q.1\n",
    "# Cual es la correlacion entre el presupuesto y la popularidad de una pelicula?\n",
    "movies_df['budget'] = movies_df['budget'].str.replace(' ', '').astype(float)\n",
    "correlation = movies_df['budget'].corr(movies_df['popularity'])\n",
    "print(correlation)"
   ]
  },
  {
   "cell_type": "code",
   "execution_count": null,
   "metadata": {},
   "outputs": [],
   "source": [
    "# Q.2\n",
    "# Las peliculas son mas largas en promedio que antes? \n",
    "movies_df['releaseDate'] = pd.to_datetime(movies_df['releaseDate'])\n",
    "movies_df['releaseYear'] = movies_df['releaseDate'].dt.year\n",
    "movies_df['decade'] = movies_df['releaseYear'] // 10 * 10\n",
    "movies_df.groupby('decade')['runtime'].mean().plot(kind='bar', title='Duracion promedio por decada', ylabel='Duracion promedio en minutos', xlabel='Decada')\n"
   ]
  },
  {
   "cell_type": "code",
   "execution_count": null,
   "metadata": {},
   "outputs": [],
   "source": [
    "# Q3 ¿Existe alguna correlación entre la cantidad de actores en una película y su calificación promedio de votos? ¿Las películas con más actores tienden a tener calificaciones más altas?\n",
    "correlation = movies_df['actorsAmount'].corr(movies_df['popularity'])\n",
    "print(correlation)"
   ]
  },
  {
   "cell_type": "code",
   "execution_count": null,
   "metadata": {},
   "outputs": [],
   "source": [
    "# Q4 ¿Cuáles son las top 5 compañías de producción que han producido más películas?\n",
    "movies_df['productionCompany'].value_counts().head(5).plot(kind='bar', title='Top 5 compañias de produccion', ylabel='Cantidad de peliculas', xlabel='Compañia de produccion')"
   ]
  },
  {
   "cell_type": "code",
   "execution_count": null,
   "metadata": {},
   "outputs": [],
   "source": [
    "# Q5 ¿Cuál es la proporcion de hombres y mujeres en el elenco de todas las películas?\n",
    "men = pd.to_numeric(movies_df['castMenAmount'], errors='coerce').sum()\n",
    "women = pd.to_numeric(movies_df['castWomenAmount'], errors='coerce').sum()\n",
    "# plot as a pie chart\n",
    "import matplotlib.pyplot as plt\n",
    "labels = ['Hombres', 'Mujeres']\n",
    "fig,ax = plt.subplots()\n",
    "ax.pie([men,women], labels=labels, autopct='%1.1f%%')\n"
   ]
  },
  {
   "cell_type": "code",
   "execution_count": null,
   "metadata": {},
   "outputs": [],
   "source": [
    "# Q6 ¿Cual es el idioma original de las peliculas mas populares?\n",
    "movies_df['originalLanguage'].value_counts().head(5).plot(kind='bar', title='Top 5 idiomas originales', ylabel='Cantidad de peliculas', xlabel='Idioma original')"
   ]
  }
 ],
 "metadata": {
  "language_info": {
   "name": "python"
  }
 },
 "nbformat": 4,
 "nbformat_minor": 2
}
