{
 "cells": [
  {
   "cell_type": "code",
   "execution_count": 6,
   "metadata": {},
   "outputs": [
    {
     "data": {
      "text/html": [
       "<div>\n",
       "<style scoped>\n",
       "    .dataframe tbody tr th:only-of-type {\n",
       "        vertical-align: middle;\n",
       "    }\n",
       "\n",
       "    .dataframe tbody tr th {\n",
       "        vertical-align: top;\n",
       "    }\n",
       "\n",
       "    .dataframe thead th {\n",
       "        text-align: right;\n",
       "    }\n",
       "</style>\n",
       "<table border=\"1\" class=\"dataframe\">\n",
       "  <thead>\n",
       "    <tr style=\"text-align: right;\">\n",
       "      <th></th>\n",
       "      <th>id</th>\n",
       "      <th>budget</th>\n",
       "      <th>genres</th>\n",
       "      <th>homePage</th>\n",
       "      <th>productionCompany</th>\n",
       "      <th>productionCompanyCountry</th>\n",
       "      <th>productionCountry</th>\n",
       "      <th>revenue</th>\n",
       "      <th>runtime</th>\n",
       "      <th>video</th>\n",
       "      <th>...</th>\n",
       "      <th>popularity</th>\n",
       "      <th>releaseDate</th>\n",
       "      <th>voteAvg</th>\n",
       "      <th>voteCount</th>\n",
       "      <th>genresAmount</th>\n",
       "      <th>productionCoAmount</th>\n",
       "      <th>productionCountriesAmount</th>\n",
       "      <th>actorsAmount</th>\n",
       "      <th>castWomenAmount</th>\n",
       "      <th>castMenAmount</th>\n",
       "    </tr>\n",
       "  </thead>\n",
       "  <tbody>\n",
       "    <tr>\n",
       "      <th>0</th>\n",
       "      <td>5</td>\n",
       "      <td>4000000</td>\n",
       "      <td>Crime|Comedy</td>\n",
       "      <td>https://www.miramax.com/movie/four-rooms/</td>\n",
       "      <td>Miramax|A Band Apart</td>\n",
       "      <td>US|US</td>\n",
       "      <td>United States of America</td>\n",
       "      <td>4257354.0</td>\n",
       "      <td>98</td>\n",
       "      <td>False</td>\n",
       "      <td>...</td>\n",
       "      <td>20.880</td>\n",
       "      <td>1995-12-09</td>\n",
       "      <td>5.7</td>\n",
       "      <td>2077</td>\n",
       "      <td>2</td>\n",
       "      <td>2</td>\n",
       "      <td>1</td>\n",
       "      <td>25</td>\n",
       "      <td>15</td>\n",
       "      <td>9</td>\n",
       "    </tr>\n",
       "    <tr>\n",
       "      <th>1</th>\n",
       "      <td>6</td>\n",
       "      <td>21000000</td>\n",
       "      <td>Action|Thriller|Crime</td>\n",
       "      <td>NaN</td>\n",
       "      <td>Universal Pictures|Largo Entertainment|JVC</td>\n",
       "      <td>US|US|JP</td>\n",
       "      <td>Japan|United States of America</td>\n",
       "      <td>12136938.0</td>\n",
       "      <td>110</td>\n",
       "      <td>False</td>\n",
       "      <td>...</td>\n",
       "      <td>9.596</td>\n",
       "      <td>1993-10-15</td>\n",
       "      <td>6.5</td>\n",
       "      <td>223</td>\n",
       "      <td>3</td>\n",
       "      <td>3</td>\n",
       "      <td>2</td>\n",
       "      <td>15</td>\n",
       "      <td>3</td>\n",
       "      <td>9</td>\n",
       "    </tr>\n",
       "    <tr>\n",
       "      <th>2</th>\n",
       "      <td>11</td>\n",
       "      <td>11000000</td>\n",
       "      <td>Adventure|Action|Science Fiction</td>\n",
       "      <td>http://www.starwars.com/films/star-wars-episod...</td>\n",
       "      <td>Lucasfilm|20th Century Fox</td>\n",
       "      <td>US|US</td>\n",
       "      <td>United States of America</td>\n",
       "      <td>775398007.0</td>\n",
       "      <td>121</td>\n",
       "      <td>NaN</td>\n",
       "      <td>...</td>\n",
       "      <td>100.003</td>\n",
       "      <td>1977-05-25</td>\n",
       "      <td>8.2</td>\n",
       "      <td>16598</td>\n",
       "      <td>3</td>\n",
       "      <td>2</td>\n",
       "      <td>1</td>\n",
       "      <td>105</td>\n",
       "      <td>5</td>\n",
       "      <td>62</td>\n",
       "    </tr>\n",
       "    <tr>\n",
       "      <th>3</th>\n",
       "      <td>12</td>\n",
       "      <td>94000000</td>\n",
       "      <td>Animation|Family</td>\n",
       "      <td>http://movies.disney.com/finding-nemo</td>\n",
       "      <td>Pixar</td>\n",
       "      <td>US</td>\n",
       "      <td>United States of America</td>\n",
       "      <td>940335536.0</td>\n",
       "      <td>100</td>\n",
       "      <td>NaN</td>\n",
       "      <td>...</td>\n",
       "      <td>134.435</td>\n",
       "      <td>2003-05-30</td>\n",
       "      <td>7.8</td>\n",
       "      <td>15928</td>\n",
       "      <td>2</td>\n",
       "      <td>1</td>\n",
       "      <td>1</td>\n",
       "      <td>24</td>\n",
       "      <td>5</td>\n",
       "      <td>18</td>\n",
       "    </tr>\n",
       "    <tr>\n",
       "      <th>4</th>\n",
       "      <td>13</td>\n",
       "      <td>55000000</td>\n",
       "      <td>Comedy|Drama|Romance</td>\n",
       "      <td>NaN</td>\n",
       "      <td>Paramount|The Steve Tisch Company</td>\n",
       "      <td>US|</td>\n",
       "      <td>United States of America</td>\n",
       "      <td>677387716.0</td>\n",
       "      <td>142</td>\n",
       "      <td>False</td>\n",
       "      <td>...</td>\n",
       "      <td>58.751</td>\n",
       "      <td>1994-07-06</td>\n",
       "      <td>8.5</td>\n",
       "      <td>22045</td>\n",
       "      <td>3</td>\n",
       "      <td>2</td>\n",
       "      <td>1</td>\n",
       "      <td>76</td>\n",
       "      <td>18</td>\n",
       "      <td>48</td>\n",
       "    </tr>\n",
       "  </tbody>\n",
       "</table>\n",
       "<p>5 rows × 27 columns</p>\n",
       "</div>"
      ],
      "text/plain": [
       "   id    budget                            genres  \\\n",
       "0   5   4000000                      Crime|Comedy   \n",
       "1   6  21000000             Action|Thriller|Crime   \n",
       "2  11  11000000  Adventure|Action|Science Fiction   \n",
       "3  12  94000000                  Animation|Family   \n",
       "4  13  55000000              Comedy|Drama|Romance   \n",
       "\n",
       "                                            homePage  \\\n",
       "0          https://www.miramax.com/movie/four-rooms/   \n",
       "1                                                NaN   \n",
       "2  http://www.starwars.com/films/star-wars-episod...   \n",
       "3              http://movies.disney.com/finding-nemo   \n",
       "4                                                NaN   \n",
       "\n",
       "                            productionCompany productionCompanyCountry  \\\n",
       "0                        Miramax|A Band Apart                    US|US   \n",
       "1  Universal Pictures|Largo Entertainment|JVC                 US|US|JP   \n",
       "2                  Lucasfilm|20th Century Fox                    US|US   \n",
       "3                                       Pixar                       US   \n",
       "4           Paramount|The Steve Tisch Company                      US|   \n",
       "\n",
       "                productionCountry      revenue  runtime  video  ...  \\\n",
       "0        United States of America    4257354.0       98  False  ...   \n",
       "1  Japan|United States of America   12136938.0      110  False  ...   \n",
       "2        United States of America  775398007.0      121    NaN  ...   \n",
       "3        United States of America  940335536.0      100    NaN  ...   \n",
       "4        United States of America  677387716.0      142  False  ...   \n",
       "\n",
       "  popularity releaseDate voteAvg voteCount genresAmount productionCoAmount  \\\n",
       "0     20.880  1995-12-09     5.7      2077            2                  2   \n",
       "1      9.596  1993-10-15     6.5       223            3                  3   \n",
       "2    100.003  1977-05-25     8.2     16598            3                  2   \n",
       "3    134.435  2003-05-30     7.8     15928            2                  1   \n",
       "4     58.751  1994-07-06     8.5     22045            3                  2   \n",
       "\n",
       "  productionCountriesAmount  actorsAmount castWomenAmount  castMenAmount  \n",
       "0                         1            25              15              9  \n",
       "1                         2            15               3              9  \n",
       "2                         1           105               5             62  \n",
       "3                         1            24               5             18  \n",
       "4                         1            76              18             48  \n",
       "\n",
       "[5 rows x 27 columns]"
      ]
     },
     "execution_count": 6,
     "metadata": {},
     "output_type": "execute_result"
    }
   ],
   "source": [
    "import pandas as pd\n",
    "import numpy as np\n",
    "import matplotlib.pyplot as plt\n",
    "import seaborn as sns\n",
    "\n",
    "df = pd.read_csv('./movies.csv', encoding='latin1')\n",
    "df.head()"
   ]
  },
  {
   "cell_type": "code",
   "execution_count": 2,
   "metadata": {},
   "outputs": [
    {
     "name": "stdout",
     "output_type": "stream",
     "text": [
      "716     Pirates of the Caribbean: On Stranger Tides\n",
      "4710                        Avengers: Age of Ultron\n",
      "5952                              Avengers: Endgame\n",
      "4953                                 Justice League\n",
      "5953                         Avengers: Infinity War\n",
      "163        Pirates of the Caribbean: At World's End\n",
      "607                                Superman Returns\n",
      "7134                                  The Lion King\n",
      "3791                                        Tangled\n",
      "280                                    Spider-Man 3\n",
      "Name: originalTitle, dtype: object\n"
     ]
    }
   ],
   "source": []
  },
  {
   "cell_type": "markdown",
   "metadata": {},
   "source": [
    "1. (3 puntos) Haga una exploración rápida de sus datos, para eso haga un resumen de su conjunto de datos.\n",
    "\n",
    "Los datos con los que estaremos trabajando fueron extraídos de la página oficial de IMBD y describe la información sobre las películas que estuvieron en cine en los últimos años, posee una cantidad de 10,000 filas (películas) y 27 columnas (o variables). Las variables se reparten en:\n",
    "- Id: Id de la película\n",
    "- popularity: Índice de popularidad de la película calculado semanalmente\n",
    "- budget: El presupuesto para la película.\n",
    "- revenue: El ingreso de la película.\n",
    "- original_title: El título original de la película, en su idioma original.\n",
    "- originalLanguage: Idioma original en que se encuentra la película\n",
    "- title: El título de la película traducido al inglés\n",
    "- homePage: La página de inicio de la película\n",
    "- video: Si tiene videos promocionales o no\n",
    "- director: Director de la película\n",
    "- runtime: La duración de la película.\n",
    "- genres: El género de la película.\n",
    "- genresAmount: Cantidad de géneros que representan la película\n",
    "- productionCompany: Las compañías productoras de la película.\n",
    "- productionCoAmount: Cantidad de compañías productoras que participaron en la película\n",
    "- productionCompanyCountry: Países de las compañías productoras de la película\n",
    "- productionCountry: Países en los que se llevó a cabo la producción de la película\n",
    "- productionCountriesAmount: Cantidad de países en los que se rodó la película\n",
    "- releaseDate: Fecha de lanzamiento de la película\n",
    "- voteCount: El número de votos en la plataforma para la película.\n",
    "- voteAvg: El promedio de los votos en la plataforma para la película\n",
    "- actors: Actores que participan en la película (Elenco)\n",
    "- actorsPopularity: Índice de popularidad del elenco de la película.\n",
    "- actorsCharacter: Personaje que interpreta cada actor en la película\n",
    "- actorsAmount: Cantidad de personas que actúan en la película\n",
    "- castWomenAmount: Cantidad de actrices en el elenco de la película\n",
    "- castMenAmount: Cantidad de actores en el elenco de la película."
   ]
  },
  {
   "cell_type": "markdown",
   "metadata": {},
   "source": [
    "2. (5 puntos) Diga el tipo de cada una de las variables (cualitativa ordinal o nominal, cuantitativa continua, cuantitativa discreta)\n",
    "\n",
    "- `id`: Cuantitativa Discreta (es un número entero, no puede tener valores intermedios)\n",
    "- `budget`: Cuantitativa Continua (es una cantidad de dinero, puede tener valores intermedios)\n",
    "- `genres`: Cualitativa Nominal (los géneros de las películas no tienen un orden específico)\n",
    "- `homePage`: Cualitativa Nominal (es una URL, no tiene un orden específico)\n",
    "- `productionCompany`: Cualitativa Nominal (son nombres, no tienen un orden específico)\n",
    "- `productionCompanyCountry`: Cualitativa Nominal (son nombres de países, no tienen un orden específico)\n",
    "- `productionCountry`: Cualitativa Nominal (son nombres de países, no tienen un orden específico)\n",
    "- `revenue`: Cuantitativa Continua (es una cantidad de dinero, puede tener valores intermedios)\n",
    "- `runtime`: Cuantitativa Discreta (es un número entero que representa la duración en minutos, no puede tener valores intermedios)\n",
    "- `video`: Cualitativa Nominal (es un valor booleano, no tiene un orden específico)\n",
    "- `director`: Cualitativa Nominal (es un nombre, no tiene un orden específico)\n",
    "- `actors`: Cualitativa Nominal (son nombres, no tienen un orden específico)\n",
    "- `actorsPopularity`: Cuantitativa Continua (es una calificación que puede tener valores intermedios)\n",
    "- `actorsCharacter`: Cualitativa Nominal (son nombres de personajes, no tienen un orden específico)\n",
    "- `originalTitle`: Cualitativa Nominal (es un nombre de película, no tiene un orden específico)\n",
    "- `title`: Cualitativa Nominal (es un nombre de película, no tiene un orden específico)\n",
    "- `originalLanguage`: Cualitativa Nominal (es un código de idioma, no tiene un orden específico)\n",
    "- `popularity`: Cuantitativa Continua (es una calificación que puede tener valores intermedios)\n",
    "- `releaseDate`: Cuantitativa Discreta (es una fecha, no puede tener valores intermedios)\n",
    "- `voteAvg`: Cuantitativa Continua (es una calificación que puede tener valores intermedios)\n",
    "- `voteCount`: Cuantitativa Discreta (es un número entero, no puede tener valores intermedios)\n",
    "- `genresAmount`: Cuantitativa Discreta (es un número entero, no puede tener valores intermedios)\n",
    "- `productionCoAmount`: Cuantitativa Discreta (es un número entero, no puede tener valores intermedios)\n",
    "- `productionCountriesAmount`: Cuantitativa Discreta (es un número entero, no puede tener valores intermedios)\n",
    "- `actorsAmount`: Cuantitativa Discreta (es un número entero, no puede tener valores intermedios)\n",
    "- `castWomenAmount`: Cuantitativa Discreta (es un número entero, no puede tener valores intermedios)\n",
    "- `castMenAmount`: Cuantitativa Discreta (es un número entero, no puede tener valores intermedios)\n"
   ]
  },
  {
   "cell_type": "markdown",
   "metadata": {},
   "source": [
    "3. (6 puntos) Investigue si las variables cuantitativas siguen una distribución normal y haga una tabla de frecuencias de las variables cualitativas. Explique todos los resultados."
   ]
  },
  {
   "cell_type": "markdown",
   "metadata": {},
   "source": [
    "4.1. (3 puntos) ¿Cuáles son las 10 películas que contaron con más presupuesto?"
   ]
  },
  {
   "cell_type": "code",
   "execution_count": 46,
   "metadata": {},
   "outputs": [
    {
     "data": {
      "text/html": [
       "<div>\n",
       "<style scoped>\n",
       "    .dataframe tbody tr th:only-of-type {\n",
       "        vertical-align: middle;\n",
       "    }\n",
       "\n",
       "    .dataframe tbody tr th {\n",
       "        vertical-align: top;\n",
       "    }\n",
       "\n",
       "    .dataframe thead th {\n",
       "        text-align: right;\n",
       "    }\n",
       "</style>\n",
       "<table border=\"1\" class=\"dataframe\">\n",
       "  <thead>\n",
       "    <tr style=\"text-align: right;\">\n",
       "      <th></th>\n",
       "      <th>originalTitle</th>\n",
       "      <th>budget</th>\n",
       "      <th>revenue</th>\n",
       "    </tr>\n",
       "  </thead>\n",
       "  <tbody>\n",
       "    <tr>\n",
       "      <th>716</th>\n",
       "      <td>Pirates of the Caribbean: On Stranger Tides</td>\n",
       "      <td>380000000</td>\n",
       "      <td>1.045714e+09</td>\n",
       "    </tr>\n",
       "    <tr>\n",
       "      <th>4710</th>\n",
       "      <td>Avengers: Age of Ultron</td>\n",
       "      <td>365000000</td>\n",
       "      <td>1.405404e+09</td>\n",
       "    </tr>\n",
       "    <tr>\n",
       "      <th>5952</th>\n",
       "      <td>Avengers: Endgame</td>\n",
       "      <td>356000000</td>\n",
       "      <td>2.797801e+09</td>\n",
       "    </tr>\n",
       "    <tr>\n",
       "      <th>4953</th>\n",
       "      <td>Justice League</td>\n",
       "      <td>300000000</td>\n",
       "      <td>6.579243e+08</td>\n",
       "    </tr>\n",
       "    <tr>\n",
       "      <th>5953</th>\n",
       "      <td>Avengers: Infinity War</td>\n",
       "      <td>300000000</td>\n",
       "      <td>2.046240e+09</td>\n",
       "    </tr>\n",
       "    <tr>\n",
       "      <th>163</th>\n",
       "      <td>Pirates of the Caribbean: At World's End</td>\n",
       "      <td>300000000</td>\n",
       "      <td>9.610000e+08</td>\n",
       "    </tr>\n",
       "    <tr>\n",
       "      <th>607</th>\n",
       "      <td>Superman Returns</td>\n",
       "      <td>270000000</td>\n",
       "      <td>3.910812e+08</td>\n",
       "    </tr>\n",
       "    <tr>\n",
       "      <th>7134</th>\n",
       "      <td>The Lion King</td>\n",
       "      <td>260000000</td>\n",
       "      <td>1.667635e+09</td>\n",
       "    </tr>\n",
       "    <tr>\n",
       "      <th>3791</th>\n",
       "      <td>Tangled</td>\n",
       "      <td>260000000</td>\n",
       "      <td>5.924617e+08</td>\n",
       "    </tr>\n",
       "    <tr>\n",
       "      <th>280</th>\n",
       "      <td>Spider-Man 3</td>\n",
       "      <td>258000000</td>\n",
       "      <td>8.908716e+08</td>\n",
       "    </tr>\n",
       "  </tbody>\n",
       "</table>\n",
       "</div>"
      ],
      "text/plain": [
       "                                    originalTitle     budget       revenue\n",
       "716   Pirates of the Caribbean: On Stranger Tides  380000000  1.045714e+09\n",
       "4710                      Avengers: Age of Ultron  365000000  1.405404e+09\n",
       "5952                            Avengers: Endgame  356000000  2.797801e+09\n",
       "4953                               Justice League  300000000  6.579243e+08\n",
       "5953                       Avengers: Infinity War  300000000  2.046240e+09\n",
       "163      Pirates of the Caribbean: At World's End  300000000  9.610000e+08\n",
       "607                              Superman Returns  270000000  3.910812e+08\n",
       "7134                                The Lion King  260000000  1.667635e+09\n",
       "3791                                      Tangled  260000000  5.924617e+08\n",
       "280                                  Spider-Man 3  258000000  8.908716e+08"
      ]
     },
     "execution_count": 46,
     "metadata": {},
     "output_type": "execute_result"
    }
   ],
   "source": [
    "peliculas_mas_costosas = df.sort_values(by=\"budget\", ascending=False).head(10)\n",
    "peliculas_mas_costosas[[\"originalTitle\", \"budget\", \"revenue\"]]"
   ]
  },
  {
   "cell_type": "markdown",
   "metadata": {},
   "source": [
    "Podemos ver una relación entre todas las peliculas, ya que casi todas las películas, exceptuando \"Justice League\" de Warner Brothers, pertenecen a Disney; demostrando como esta compañia siempre a invertido grande en franquicias como Marvel, Piratas del Caribe, Pixar, etc."
   ]
  },
  {
   "cell_type": "markdown",
   "metadata": {},
   "source": [
    "4.2. (3 puntos) ¿Cuáles son las 10 películas que más ingresos tuvieron?"
   ]
  },
  {
   "cell_type": "code",
   "execution_count": 45,
   "metadata": {},
   "outputs": [
    {
     "data": {
      "text/html": [
       "<div>\n",
       "<style scoped>\n",
       "    .dataframe tbody tr th:only-of-type {\n",
       "        vertical-align: middle;\n",
       "    }\n",
       "\n",
       "    .dataframe tbody tr th {\n",
       "        vertical-align: top;\n",
       "    }\n",
       "\n",
       "    .dataframe thead th {\n",
       "        text-align: right;\n",
       "    }\n",
       "</style>\n",
       "<table border=\"1\" class=\"dataframe\">\n",
       "  <thead>\n",
       "    <tr style=\"text-align: right;\">\n",
       "      <th></th>\n",
       "      <th>originalTitle</th>\n",
       "      <th>revenue</th>\n",
       "    </tr>\n",
       "  </thead>\n",
       "  <tbody>\n",
       "    <tr>\n",
       "      <th>3210</th>\n",
       "      <td>Avatar</td>\n",
       "      <td>2.847246e+09</td>\n",
       "    </tr>\n",
       "    <tr>\n",
       "      <th>5952</th>\n",
       "      <td>Avengers: Endgame</td>\n",
       "      <td>2.797801e+09</td>\n",
       "    </tr>\n",
       "    <tr>\n",
       "      <th>307</th>\n",
       "      <td>Titanic</td>\n",
       "      <td>2.187464e+09</td>\n",
       "    </tr>\n",
       "    <tr>\n",
       "      <th>4947</th>\n",
       "      <td>Star Wars: The Force Awakens</td>\n",
       "      <td>2.068224e+09</td>\n",
       "    </tr>\n",
       "    <tr>\n",
       "      <th>5953</th>\n",
       "      <td>Avengers: Infinity War</td>\n",
       "      <td>2.046240e+09</td>\n",
       "    </tr>\n",
       "    <tr>\n",
       "      <th>4914</th>\n",
       "      <td>Jurassic World</td>\n",
       "      <td>1.671713e+09</td>\n",
       "    </tr>\n",
       "    <tr>\n",
       "      <th>7134</th>\n",
       "      <td>The Lion King</td>\n",
       "      <td>1.667635e+09</td>\n",
       "    </tr>\n",
       "    <tr>\n",
       "      <th>9049</th>\n",
       "      <td>Spider-Man: No Way Home</td>\n",
       "      <td>1.631853e+09</td>\n",
       "    </tr>\n",
       "    <tr>\n",
       "      <th>3397</th>\n",
       "      <td>The Avengers</td>\n",
       "      <td>1.518816e+09</td>\n",
       "    </tr>\n",
       "    <tr>\n",
       "      <th>5087</th>\n",
       "      <td>Furious 7</td>\n",
       "      <td>1.515048e+09</td>\n",
       "    </tr>\n",
       "  </tbody>\n",
       "</table>\n",
       "</div>"
      ],
      "text/plain": [
       "                     originalTitle       revenue\n",
       "3210                        Avatar  2.847246e+09\n",
       "5952             Avengers: Endgame  2.797801e+09\n",
       "307                        Titanic  2.187464e+09\n",
       "4947  Star Wars: The Force Awakens  2.068224e+09\n",
       "5953        Avengers: Infinity War  2.046240e+09\n",
       "4914                Jurassic World  1.671713e+09\n",
       "7134                 The Lion King  1.667635e+09\n",
       "9049       Spider-Man: No Way Home  1.631853e+09\n",
       "3397                  The Avengers  1.518816e+09\n",
       "5087                     Furious 7  1.515048e+09"
      ]
     },
     "execution_count": 45,
     "metadata": {},
     "output_type": "execute_result"
    }
   ],
   "source": [
    "peliculas_mas_ingresos = df.sort_values(by=\"revenue\", ascending=False).head(10)\n",
    "peliculas_mas_ingresos[[\"originalTitle\", \"revenue\"]]"
   ]
  },
  {
   "cell_type": "markdown",
   "metadata": {},
   "source": [
    "Podemos observar el top 10 de las películas que más ingresos obtuvieron, el cual podemos ver muchas de marvel aunque esta compañia fue la que invertio más, logro generar bastantes ingresos con sus películas, la mejor película del top 10 es para Avatar que logro recaudar mas de 3 billones."
   ]
  },
  {
   "cell_type": "markdown",
   "metadata": {},
   "source": [
    "4.3. (3 puntos) ¿Cuál es la película que más votos tuvo?"
   ]
  },
  {
   "cell_type": "code",
   "execution_count": 44,
   "metadata": {},
   "outputs": [
    {
     "data": {
      "text/plain": [
       "originalTitle    Inception\n",
       "voteCount            30788\n",
       "Name: 3511, dtype: object"
      ]
     },
     "execution_count": 44,
     "metadata": {},
     "output_type": "execute_result"
    }
   ],
   "source": [
    "pelicula_mas_votada = df.loc[df['voteCount'].idxmax()]\n",
    "pelicula_mas_votada[[\"originalTitle\", \"voteCount\"]]"
   ]
  },
  {
   "cell_type": "markdown",
   "metadata": {},
   "source": [
    "La mejor película fue Inception ya que cuenta con un total de 30,700 votos poniéndola como la mejor película más votada por los usuarios."
   ]
  },
  {
   "cell_type": "markdown",
   "metadata": {},
   "source": [
    "4.4. (3 puntos) ¿Cuál es la peor película de acuerdo a los votos de todos los usuarios?"
   ]
  },
  {
   "cell_type": "code",
   "execution_count": 43,
   "metadata": {},
   "outputs": [
    {
     "data": {
      "text/html": [
       "<div>\n",
       "<style scoped>\n",
       "    .dataframe tbody tr th:only-of-type {\n",
       "        vertical-align: middle;\n",
       "    }\n",
       "\n",
       "    .dataframe tbody tr th {\n",
       "        vertical-align: top;\n",
       "    }\n",
       "\n",
       "    .dataframe thead th {\n",
       "        text-align: right;\n",
       "    }\n",
       "</style>\n",
       "<table border=\"1\" class=\"dataframe\">\n",
       "  <thead>\n",
       "    <tr style=\"text-align: right;\">\n",
       "      <th></th>\n",
       "      <th>title</th>\n",
       "      <th>voteAvg</th>\n",
       "    </tr>\n",
       "  </thead>\n",
       "  <tbody>\n",
       "    <tr>\n",
       "      <th>9786</th>\n",
       "      <td>DAKAICHI -I'm Being Harassed by the Sexiest Ma...</td>\n",
       "      <td>1.3</td>\n",
       "    </tr>\n",
       "  </tbody>\n",
       "</table>\n",
       "</div>"
      ],
      "text/plain": [
       "                                                  title  voteAvg\n",
       "9786  DAKAICHI -I'm Being Harassed by the Sexiest Ma...      1.3"
      ]
     },
     "execution_count": 43,
     "metadata": {},
     "output_type": "execute_result"
    }
   ],
   "source": [
    "peor_pelicula = df.sort_values(by=\"voteAvg\", ascending=True).head(1)\n",
    "peor_pelicula[[\"title\", \"voteAvg\"]]"
   ]
  },
  {
   "cell_type": "markdown",
   "metadata": {},
   "source": [
    "La peor película fue  la de -I’m being Harassed by the Sexiest, ya que tuvo un promedio total de votos de 1.3 lo cual la posiciona en la última película y la que menos le gusto a los usuarios."
   ]
  },
  {
   "cell_type": "markdown",
   "metadata": {},
   "source": [
    "4.5. (8 puntos) ¿Cuántas películas se hicieron en cada año? ¿En qué año se hicieron más películas? Haga un gráfico de barras"
   ]
  },
  {
   "cell_type": "code",
   "execution_count": 38,
   "metadata": {},
   "outputs": [
    {
     "name": "stdout",
     "output_type": "stream",
     "text": [
      "1902      1\n",
      "1920      1\n",
      "1921      1\n",
      "1922      1\n",
      "1925      2\n",
      "       ... \n",
      "2018    629\n",
      "2019    612\n",
      "2020    533\n",
      "2021    816\n",
      "2022      7\n",
      "Name: releaseDate, Length: 99, dtype: int64\n",
      "**Año con mayor cantidad de películas 2021 con 816 Películas**\n"
     ]
    },
    {
     "data": {
      "image/png": "[encoded data removed]",
      "text/plain": [
       "<Figure size 640x480 with 1 Axes>"
      ]
     },
     "metadata": {},
     "output_type": "display_data"
    }
   ],
   "source": [
    "# Obtener el recuento de películas por año\n",
    "conteo_por_anio = df['releaseDate'].str[:4].value_counts().sort_index()\n",
    "print(conteo_por_anio)\n",
    "\n",
    "# Obtener el año con mayor cantidad de películas\n",
    "anio_max_pelis = conteo_por_anio.idxmax()\n",
    "print(\"**Año con mayor cantidad de películas 2021 con 816 Películas**\")\n",
    "print(anio_max_pelis)\n",
    "\n",
    "# Crear el gráfico de barras\n",
    "plt.bar(conteo_por_anio.index, conteo_por_anio.values)\n",
    "plt.xlabel('Año')\n",
    "plt.ylabel('Número de películas')\n",
    "plt.title('Número de películas realizadas por año')\n",
    "\n",
    "# Anotar el año con mayor cantidad de películas\n",
    "plt.annotate(f'Máximo: {anio_max_pelis}', xy=(anio_max_pelis, conteo_por_anio.max()), xytext=(anio_max_pelis, conteo_por_anio.max() + 100), ha='center', arrowprops=dict(facecolor='black', arrowstyle='->'))\n",
    "\n",
    "# Mostrar el gráfico\n",
    "plt.show()"
   ]
  },
  {
   "cell_type": "markdown",
   "metadata": {},
   "source": [
    "Viendo todos los años y cuantas películas se realizaron al año, se puede ver claramente que el año que más películas tuvo fue el año 2021 con un total de 816 películas."
   ]
  },
  {
   "cell_type": "markdown",
   "metadata": {},
   "source": [
    "4.6. (9 puntos) ¿Cuál es el género principal de las 20 películas más recientes? ¿Cuál es el género\n",
    "principal que predomina en el conjunto de datos? Represéntelo usando un gráfico"
   ]
  },
  {
   "cell_type": "code",
   "execution_count": 41,
   "metadata": {},
   "outputs": [
    {
     "name": "stdout",
     "output_type": "stream",
     "text": [
      "Drama                                 2\n",
      "Comedy                                2\n",
      "Comedy|Drama                          1\n",
      "Drama|Mystery                         1\n",
      "Thriller                              1\n",
      "Action|Thriller|Crime|Drama           1\n",
      "Documentary                           1\n",
      "Action|Drama                          1\n",
      "Romance                               1\n",
      "Animation|Adventure|Fantasy|Family    1\n",
      "Horror|Thriller|Mystery               1\n",
      "Comedy|Romance|Fantasy                1\n",
      "Comedy|Horror                         1\n",
      "Drama|Fantasy                         1\n",
      "Action|Adventure|Comedy               1\n",
      "Comedy|Romance                        1\n",
      "Name: genres, dtype: int64\n",
      "Género principal que predomina en el conjunto de datos: Drama\n"
     ]
    },
    {
     "data": {
      "image/png": "[encoded data removed]",
      "text/plain": [
       "<Figure size 640x480 with 1 Axes>"
      ]
     },
     "metadata": {},
     "output_type": "display_data"
    }
   ],
   "source": [
    "# Ordenar los datos por la columna \"releaseDate\" en orden descendente\n",
    "movies_sorted = df.sort_values(by=\"releaseDate\", ascending=False)\n",
    "\n",
    "# Obtener los géneros principales de las 20 películas más recientes\n",
    "generos_20_mas_recientes = movies_sorted.head(20)[\"genres\"].str.split(\",\").explode().str.strip().value_counts()\n",
    "print(generos_20_mas_recientes)\n",
    "\n",
    "# Obtener el género principal que predomina en el conjunto de datos\n",
    "genero_predominante = df[\"genres\"].str.split(\",\").explode().str.strip().value_counts().idxmax()\n",
    "\n",
    "# Imprimir el género principal que predomina en el conjunto de datos\n",
    "print(\"Género principal que predomina en el conjunto de datos:\", genero_predominante)\n",
    "\n",
    "# Crear el gráfico de barras\n",
    "plt.bar(generos_20_mas_recientes.index, generos_20_mas_recientes.values)\n",
    "plt.xlabel('Género')\n",
    "plt.ylabel('Cantidad')\n",
    "plt.title('Género principal de las 20 películas más recientes')\n",
    "\n",
    "# Mostrar el gráfico\n",
    "plt.show()\n"
   ]
  },
  {
   "cell_type": "markdown",
   "metadata": {},
   "source": [
    "El género principal de las 20 películas más recientes es el Drama al igual el género dominante es el Drama también, ya que como se puede ver en el resultado y el en gráfico se ve claramente que el drama aparece en muchas ocasiones dentro del top lo cual es el más dominante."
   ]
  },
  {
   "cell_type": "markdown",
   "metadata": {},
   "source": [
    "4.7. (8 puntos) ¿Las películas de qué genero principal obtuvieron mayores ganancias?"
   ]
  },
  {
   "cell_type": "code",
   "execution_count": 52,
   "metadata": {},
   "outputs": [
    {
     "name": "stdout",
     "output_type": "stream",
     "text": [
      "genres\n",
      "Action                                        1.560007e+09\n",
      "Action|Adventure                              2.342255e+09\n",
      "Action|Adventure|Animation                    0.000000e+00\n",
      "Action|Adventure|Animation|Comedy|Family      7.116852e+08\n",
      "Action|Adventure|Animation|Comedy|TV Movie    0.000000e+00\n",
      "                                                  ...     \n",
      "Western|Drama|Mystery                         1.570000e+07\n",
      "Western|Horror                                0.000000e+00\n",
      "Western|Mystery|Thriller|Drama                0.000000e+00\n",
      "Western|TV Movie                              0.000000e+00\n",
      "Western|Thriller                              8.000000e+06\n",
      "Name: revenue, Length: 2345, dtype: float64\n",
      "Género principal con mayores ganancias: Action|Adventure|Science Fiction\n"
     ]
    }
   ],
   "source": [
    "# Obtener los géneros principales y las ganancias de las películas\n",
    "generos_ganancias = df.groupby(\"genres\")[\"revenue\"].sum()\n",
    "print(generos_ganancias)\n",
    "# Obtener el género principal con mayores ganancias\n",
    "genero_mayores_ganancias = generos_ganancias.idxmax()\n",
    "# Imprimir el género principal con mayores ganancias\n",
    "print(\"Género principal con mayores ganancias:\", genero_mayores_ganancias)"
   ]
  },
  {
   "cell_type": "markdown",
   "metadata": {},
   "source": [
    "4.8. (3 puntos) ¿La cantidad de actores influye en los ingresos de las películas? ¿Se han hecho películas con más actores en los últimos años?"
   ]
  },
  {
   "cell_type": "code",
   "execution_count": 61,
   "metadata": {},
   "outputs": [
    {
     "name": "stdout",
     "output_type": "stream",
     "text": [
      "¿La cantidad de actores influye en los ingresos de las películas?\n"
     ]
    },
    {
     "data": {
      "image/png": "[encoded data removed]",
      "text/plain": [
       "<Figure size 640x480 with 1 Axes>"
      ]
     },
     "metadata": {},
     "output_type": "display_data"
    },
    {
     "name": "stdout",
     "output_type": "stream",
     "text": [
      "Correlación entre la cantidad de actores y los ingresos: -0.019554880174247613\n",
      "\n",
      "Como podemos ver la cantidad de actores no influye en los ingresos de las películas, ya que no parece haber ninguna correlación entre estas dos variables.\n",
      "\n",
      "\n",
      "¿Se han hecho películas con más actores en los últimos años?\n"
     ]
    },
    {
     "data": {
      "image/png": "[encoded data removed]",
      "text/plain": [
       "<Figure size 640x480 with 1 Axes>"
      ]
     },
     "metadata": {},
     "output_type": "display_data"
    },
    {
     "name": "stdout",
     "output_type": "stream",
     "text": [
      "Como se puede ver en la gráfica, ha habido un crecimiento bastante grande en la cantidad de actores que se contrata por película.\n",
      "Esto se puede deber por el gran crecimiento que ha tenido la industria del entretenimiento en las últimas décadas\n"
     ]
    }
   ],
   "source": [
    "print(\"¿La cantidad de actores influye en los ingresos de las películas?\")\n",
    "\n",
    "# Calcular la correlación entre la cantidad de actores y los ingresos de las películas\n",
    "correlacion = df['actorsAmount'].corr(df['revenue'])\n",
    "\n",
    "# Calculate the line of best fit\n",
    "slope, intercept = np.polyfit(df[\"actorsAmount\"], df[\"revenue\"], 1)\n",
    "\n",
    "# Generate x values\n",
    "x_values = np.linspace(df[\"actorsAmount\"].min(), df[\"actorsAmount\"].max(), 100)\n",
    "\n",
    "# Calculate corresponding y values\n",
    "y_values = slope * x_values + intercept\n",
    "\n",
    "# Plot the scatter plot\n",
    "plt.scatter(df[\"revenue\"], df[\"actorsAmount\"])\n",
    "plt.title('Correlation Actors Amount vs Revenue')\n",
    "plt.ylabel('Actors Amount')\n",
    "plt.xlabel('Revenue')\n",
    "plt.show()\n",
    "\n",
    "# Imprimir la correlación entre la cantidad de actores y los ingresos\n",
    "print(\"Correlación entre la cantidad de actores y los ingresos:\", correlacion)\n",
    "# Explicacion de la correlacion\n",
    "print(\"\\nComo podemos ver la cantidad de actores no influye en los ingresos de las películas, ya que no parece haber ninguna correlación entre estas dos variables.\\n\")\n",
    "\n",
    "\n",
    "print(\"\\n¿Se han hecho películas con más actores en los últimos años?\")\n",
    "\n",
    "# Mostrar la gráfica\n",
    "plt.show(\"¿Se han hecho películas con más actores en los últimos años?\")\n",
    "\n",
    "# Obtener la cantidad de actores por año\n",
    "actores_por_anio = df[\"releaseDate\"].str[:4].astype(int).value_counts().sort_index()\n",
    "\n",
    "# Crear el gráfico de línea\n",
    "plt.plot(actores_por_anio.index, actores_por_anio.values)\n",
    "plt.xlabel('Año')\n",
    "plt.ylabel('Cantidad de actores')\n",
    "plt.title('Cantidad de actores en las películas por año')\n",
    "\n",
    "# Mostrar el gráfico\n",
    "plt.show()\n",
    "\n",
    "print(\"Como se puede ver en la gráfica, ha habido un crecimiento bastante grande en la cantidad de actores que se contrata por película.\")\n",
    "print(\"Esto se puede deber por el gran crecimiento que ha tenido la industria del entretenimiento en las últimas décadas\")"
   ]
  }
 ],
 "metadata": {
  "kernelspec": {
   "display_name": "Python 3",
   "language": "python",
   "name": "python3"
  },
  "language_info": {
   "codemirror_mode": {
    "name": "ipython",
    "version": 3
   },
   "file_extension": ".py",
   "mimetype": "text/x-python",
   "name": "python",
   "nbconvert_exporter": "python",
   "pygments_lexer": "ipython3",
   "version": "3.10.12"
  }
 },
 "nbformat": 4,
 "nbformat_minor": 2
}
