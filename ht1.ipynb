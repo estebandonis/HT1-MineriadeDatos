{
 "cells": [
  {
   "cell_type": "code",
   "execution_count": null,
   "metadata": {},
   "outputs": [],
   "source": [
    "import pandas as pd\n",
    "import numpy as np\n",
    "import matplotlib.pyplot as plt\n",
    "import seaborn as sns\n",
    "\n",
    "df = pd.read_csv('./movies.csv', encoding='latin1')\n",
    "df.head()"
   ]
  },
  {
   "cell_type": "markdown",
   "metadata": {},
   "source": [
    "1. (3 puntos) Haga una exploración rápida de sus datos, para eso haga un resumen de su conjunto de datos.\n",
    "\n",
    "Los datos con los que estaremos trabajando fueron extraídos de la página oficial de IMBD y describe la información sobre las películas que estuvieron en cine en los últimos años, posee una cantidad de 10,000 filas (películas) y 27 columnas (o variables). Las variables se reparten en:\n",
    "- Id: Id de la película\n",
    "- popularity: Índice de popularidad de la película calculado semanalmente\n",
    "- budget: El presupuesto para la película.\n",
    "- revenue: El ingreso de la película.\n",
    "- original_title: El título original de la película, en su idioma original.\n",
    "- originalLanguage: Idioma original en que se encuentra la película\n",
    "- title: El título de la película traducido al inglés\n",
    "- homePage: La página de inicio de la película\n",
    "- video: Si tiene videos promocionales o no\n",
    "- director: Director de la película\n",
    "- runtime: La duración de la película.\n",
    "- genres: El género de la película.\n",
    "- genresAmount: Cantidad de géneros que representan la película\n",
    "- productionCompany: Las compañías productoras de la película.\n",
    "- productionCoAmount: Cantidad de compañías productoras que participaron en la película\n",
    "- productionCompanyCountry: Países de las compañías productoras de la película\n",
    "- productionCountry: Países en los que se llevó a cabo la producción de la película\n",
    "- productionCountriesAmount: Cantidad de países en los que se rodó la película\n",
    "- releaseDate: Fecha de lanzamiento de la película\n",
    "- voteCount: El número de votos en la plataforma para la película.\n",
    "- voteAvg: El promedio de los votos en la plataforma para la película\n",
    "- actors: Actores que participan en la película (Elenco)\n",
    "- actorsPopularity: Índice de popularidad del elenco de la película.\n",
    "- actorsCharacter: Personaje que interpreta cada actor en la película\n",
    "- actorsAmount: Cantidad de personas que actúan en la película\n",
    "- castWomenAmount: Cantidad de actrices en el elenco de la película\n",
    "- castMenAmount: Cantidad de actores en el elenco de la película."
   ]
  },
  {
   "cell_type": "markdown",
   "metadata": {},
   "source": [
    "2. (5 puntos) Diga el tipo de cada una de las variables (cualitativa ordinal o nominal, cuantitativa continua, cuantitativa discreta)\n",
    "\n",
    "- `id`: Cuantitativa Discreta (es un número entero, no puede tener valores intermedios)\n",
    "- `budget`: Cuantitativa Continua (es una cantidad de dinero, puede tener valores intermedios)\n",
    "- `genres`: Cualitativa Nominal (los géneros de las películas no tienen un orden específico)\n",
    "- `homePage`: Cualitativa Nominal (es una URL, no tiene un orden específico)\n",
    "- `productionCompany`: Cualitativa Nominal (son nombres, no tienen un orden específico)\n",
    "- `productionCompanyCountry`: Cualitativa Nominal (son nombres de países, no tienen un orden específico)\n",
    "- `productionCountry`: Cualitativa Nominal (son nombres de países, no tienen un orden específico)\n",
    "- `revenue`: Cuantitativa Continua (es una cantidad de dinero, puede tener valores intermedios)\n",
    "- `runtime`: Cuantitativa Discreta (es un número entero que representa la duración en minutos, no puede tener valores intermedios)\n",
    "- `video`: Cualitativa Nominal (es un valor booleano, no tiene un orden específico)\n",
    "- `director`: Cualitativa Nominal (es un nombre, no tiene un orden específico)\n",
    "- `actors`: Cualitativa Nominal (son nombres, no tienen un orden específico)\n",
    "- `actorsPopularity`: Cuantitativa Continua (es una calificación que puede tener valores intermedios)\n",
    "- `actorsCharacter`: Cualitativa Nominal (son nombres de personajes, no tienen un orden específico)\n",
    "- `originalTitle`: Cualitativa Nominal (es un nombre de película, no tiene un orden específico)\n",
    "- `title`: Cualitativa Nominal (es un nombre de película, no tiene un orden específico)\n",
    "- `originalLanguage`: Cualitativa Nominal (es un código de idioma, no tiene un orden específico)\n",
    "- `popularity`: Cuantitativa Continua (es una calificación que puede tener valores intermedios)\n",
    "- `releaseDate`: Cuantitativa Discreta (es una fecha, no puede tener valores intermedios)\n",
    "- `voteAvg`: Cuantitativa Continua (es una calificación que puede tener valores intermedios)\n",
    "- `voteCount`: Cuantitativa Discreta (es un número entero, no puede tener valores intermedios)\n",
    "- `genresAmount`: Cuantitativa Discreta (es un número entero, no puede tener valores intermedios)\n",
    "- `productionCoAmount`: Cuantitativa Discreta (es un número entero, no puede tener valores intermedios)\n",
    "- `productionCountriesAmount`: Cuantitativa Discreta (es un número entero, no puede tener valores intermedios)\n",
    "- `actorsAmount`: Cuantitativa Discreta (es un número entero, no puede tener valores intermedios)\n",
    "- `castWomenAmount`: Cuantitativa Discreta (es un número entero, no puede tener valores intermedios)\n",
    "- `castMenAmount`: Cuantitativa Discreta (es un número entero, no puede tener valores intermedios)\n"
   ]
  },
  {
   "cell_type": "markdown",
   "metadata": {},
   "source": [
    "3. (6 puntos) Investigue si las variables cuantitativas siguen una distribución normal y haga una tabla de frecuencias de las variables cualitativas. Explique todos los resultados."
   ]
  },
  {
   "cell_type": "markdown",
   "metadata": {},
   "source": [
    "4.1. (3 puntos) ¿Cuáles son las 10 películas que contaron con más presupuesto?"
   ]
  },
  {
   "cell_type": "code",
   "execution_count": null,
   "metadata": {},
   "outputs": [],
   "source": [
    "peliculas_mas_costosas = df.sort_values(by=\"budget\", ascending=False).head(10)\n",
    "peliculas_mas_costosas[[\"originalTitle\", \"budget\", \"revenue\"]].style.set_table_styles(\n",
    "    [{\n",
    "        'selector': 'th',\n",
    "        'props': [('background', '#606060'), \n",
    "                  ('color', 'white'),\n",
    "                  ('font-family', 'verdana')]\n",
    "    }, \n",
    "    {\n",
    "        'selector': 'td',\n",
    "        'props': [('font-family', 'verdana'),\n",
    "                  ('color', 'black')]\n",
    "    },\n",
    "    {\n",
    "        'selector': 'tr:nth-of-type(odd)',\n",
    "        'props': [('background', '#DCDCDC')]\n",
    "    }, \n",
    "    {\n",
    "        'selector': 'tr:nth-of-type(even)',\n",
    "        'props': [('background', 'white')]\n",
    "    }]\n",
    ")"
   ]
  },
  {
   "cell_type": "markdown",
   "metadata": {},
   "source": [
    "Podemos ver una relación entre todas las peliculas, ya que casi todas las películas, exceptuando \"Justice League\" de Warner Brothers, pertenecen a Disney; demostrando como esta compañia siempre a invertido grande en franquicias como Marvel, Piratas del Caribe, Pixar, etc."
   ]
  },
  {
   "cell_type": "markdown",
   "metadata": {},
   "source": [
    "4.2. (3 puntos) ¿Cuáles son las 10 películas que más ingresos tuvieron?"
   ]
  },
  {
   "cell_type": "code",
   "execution_count": null,
   "metadata": {},
   "outputs": [],
   "source": [
    "peliculas_mas_ingresos = df.sort_values(by=\"revenue\", ascending=False).head(10)\n",
    "peliculas_mas_ingresos[[\"originalTitle\", \"revenue\"]].style.set_table_styles(\n",
    "    [{\n",
    "        'selector': 'th',\n",
    "        'props': [('background', '#606060'), \n",
    "                  ('color', 'white'),\n",
    "                  ('font-family', 'verdana')]\n",
    "    }, \n",
    "    {\n",
    "        'selector': 'td',\n",
    "        'props': [('font-family', 'verdana'),\n",
    "                  ('color', 'black')]\n",
    "    },\n",
    "    {\n",
    "        'selector': 'tr:nth-of-type(odd)',\n",
    "        'props': [('background', '#DCDCDC')]\n",
    "    }, \n",
    "    {\n",
    "        'selector': 'tr:nth-of-type(even)',\n",
    "        'props': [('background', 'white')]\n",
    "    }]\n",
    ")"
   ]
  },
  {
   "cell_type": "markdown",
   "metadata": {},
   "source": [
    "Podemos observar el top 10 de las películas que más ingresos obtuvieron, el cual podemos ver muchas de marvel aunque esta compañia fue la que invertio más, logro generar bastantes ingresos con sus películas, la mejor película del top 10 es para Avatar que logro recaudar mas de 3 billones."
   ]
  },
  {
   "cell_type": "markdown",
   "metadata": {},
   "source": [
    "4.3. (3 puntos) ¿Cuál es la película que más votos tuvo?"
   ]
  },
  {
   "cell_type": "code",
   "execution_count": null,
   "metadata": {},
   "outputs": [],
   "source": [
    "pelicula_mas_votada = df.loc[df['voteCount'].idxmax()]\n",
    "print(pelicula_mas_votada[[\"originalTitle\", \"voteCount\"]])"
   ]
  },
  {
   "cell_type": "markdown",
   "metadata": {},
   "source": [
    "La mejor película fue Inception ya que cuenta con un total de 30,700 votos poniéndola como la mejor película más votada por los usuarios."
   ]
  },
  {
   "cell_type": "markdown",
   "metadata": {},
   "source": [
    "4.4. (3 puntos) ¿Cuál es la peor película de acuerdo a los votos de todos los usuarios?"
   ]
  },
  {
   "cell_type": "code",
   "execution_count": null,
   "metadata": {},
   "outputs": [],
   "source": [
    "peor_pelicula = df.sort_values(by=\"voteAvg\", ascending=True).head(1)\n",
    "print(peor_pelicula[[\"title\", \"voteAvg\"]])"
   ]
  },
  {
   "cell_type": "markdown",
   "metadata": {},
   "source": [
    "La peor película fue  la de -I’m being Harassed by the Sexiest, ya que tuvo un promedio total de votos de 1.3 lo cual la posiciona en la última película y la que menos le gusto a los usuarios."
   ]
  },
  {
   "cell_type": "markdown",
   "metadata": {},
   "source": [
    "4.5. (8 puntos) ¿Cuántas películas se hicieron en cada año? ¿En qué año se hicieron más películas? Haga un gráfico de barras"
   ]
  },
  {
   "cell_type": "code",
   "execution_count": null,
   "metadata": {},
   "outputs": [],
   "source": [
    "# Obtener el recuento de películas por año\n",
    "conteo_por_anio = df['releaseDate'].str[:4].value_counts().sort_index()\n",
    "print(conteo_por_anio)\n",
    "\n",
    "# Obtener el año con mayor cantidad de películas\n",
    "anio_max_pelis = conteo_por_anio.idxmax()\n",
    "print(\"**Año con mayor cantidad de películas 2021 con 816 Películas**\")\n",
    "print(anio_max_pelis)\n",
    "\n",
    "# Crear el gráfico de barras\n",
    "plt.bar(conteo_por_anio.index, conteo_por_anio.values)\n",
    "plt.xlabel('Año')\n",
    "plt.ylabel('Número de películas')\n",
    "plt.title('Número de películas realizadas por año')\n",
    "\n",
    "# Anotar el año con mayor cantidad de películas\n",
    "plt.annotate(f'Máximo: {anio_max_pelis}', xy=(anio_max_pelis, conteo_por_anio.max()), xytext=(anio_max_pelis, conteo_por_anio.max() + 100), ha='center', arrowprops=dict(facecolor='black', arrowstyle='->'))\n",
    "\n",
    "# Mostrar el gráfico\n",
    "plt.show()"
   ]
  },
  {
   "cell_type": "markdown",
   "metadata": {},
   "source": [
    "Viendo todos los años y cuantas películas se realizaron al año, se puede ver claramente que el año que más películas tuvo fue el año 2021 con un total de 816 películas."
   ]
  }
 ],
 "metadata": {
  "kernelspec": {
   "display_name": "Python 3",
   "language": "python",
   "name": "python3"
  },
  "language_info": {
   "codemirror_mode": {
    "name": "ipython",
    "version": 3
   },
   "file_extension": ".py",
   "mimetype": "text/x-python",
   "name": "python",
   "nbconvert_exporter": "python",
   "pygments_lexer": "ipython3",
   "version": "3.10.12"
  }
 },
 "nbformat": 4,
 "nbformat_minor": 2
}
